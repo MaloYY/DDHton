{
 "cells": [
  {
   "cell_type": "code",
   "execution_count": 1,
   "id": "6b22f56d",
   "metadata": {
    "cellId": "94rvzb53nos73dt0ug8uzi"
   },
   "outputs": [],
   "source": [
    "import torch\n",
    "import pytorch_lightning as pl"
   ]
  },
  {
   "cell_type": "code",
   "execution_count": null,
   "id": "d76f27ef",
   "metadata": {
    "cellId": "009ssuhkpkl7cncxun06j90j"
   },
   "outputs": [],
   "source": []
  },
  {
   "cell_type": "code",
   "execution_count": 2,
   "id": "f285fa3f",
   "metadata": {
    "cellId": "5f8pxhprk2hyokedkokoph"
   },
   "outputs": [
    {
     "data": {
      "text/plain": [
       "tensor([ 0.7299, -1.1358,  0.4399, -1.1246, -0.8946,  0.0081,  2.0488, -0.9920,\n",
       "        -0.1071, -1.2108, -1.1880,  1.8761,  0.6485, -0.7892, -0.1265, -0.8912,\n",
       "        -0.3091, -0.2881, -0.4992, -0.9924, -0.7765,  1.7412, -0.1056, -2.5210,\n",
       "         0.9538,  2.2761,  0.3309,  0.0144, -0.5560,  0.8954,  0.8296, -0.1745,\n",
       "        -1.3106, -0.2267, -1.0553,  1.3999,  1.6410, -0.4034, -1.5340,  0.1684,\n",
       "         0.1272, -1.6825, -1.3027, -0.1091, -0.6932,  1.5316,  0.6762, -1.3582,\n",
       "         0.2307,  0.4868, -0.8676, -0.0185, -2.0819,  0.5623,  0.9086,  0.9551,\n",
       "        -0.8285, -0.8795,  2.2737,  0.3725, -0.4233,  0.3904,  0.1334, -1.0683,\n",
       "         1.6803,  0.2702, -2.1232, -0.3205, -0.7668,  0.8555,  1.0255,  0.1960,\n",
       "        -1.4835,  0.0596,  1.9372, -0.1638, -0.8959, -0.2994, -0.6619, -1.2006,\n",
       "        -0.2796,  0.4172, -0.8717,  1.9119, -0.4881, -1.3460,  1.2981,  1.3350,\n",
       "         0.4370, -0.8293, -1.2707,  0.7508,  1.1148, -0.8582,  1.6358,  0.1284,\n",
       "         0.0644, -1.1127,  1.2837, -0.2425])"
      ]
     },
     "execution_count": 2,
     "metadata": {},
     "output_type": "execute_result"
    }
   ],
   "source": [
    "torch.randn((100))"
   ]
  },
  {
   "cell_type": "code",
   "execution_count": null,
   "id": "5cac9d4e",
   "metadata": {
    "cellId": "660xd0nx3tmr8y9vz7vack"
   },
   "outputs": [],
   "source": []
  }
 ],
 "metadata": {
  "language_info": {
   "codemirror_mode": {
    "name": "ipython",
    "version": 3
   },
   "file_extension": ".py",
   "mimetype": "text/x-python",
   "name": "python",
   "nbconvert_exporter": "python",
   "pygments_lexer": "ipython3",
   "version": "3.7.7"
  },
  "notebookId": "4fd0195e-4e6e-46cd-a743-96aaeaf64ecc",
  "notebookPath": "Untitled.ipynb"
 },
 "nbformat": 4,
 "nbformat_minor": 5
}
